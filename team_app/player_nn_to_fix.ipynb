{
 "cells": [
  {
   "cell_type": "code",
   "execution_count": 2,
   "id": "5a2520f9",
   "metadata": {},
   "outputs": [],
   "source": [
    "import pandas as pd\n",
    "import numpy as np\n",
    "import matplotlib.pyplot as plt\n",
    "import seaborn as sns\n",
    "\n",
    "from sklearn.preprocessing import StandardScaler\n",
    "from sklearn.decomposition import PCA\n",
    "from sklearn.cluster import KMeans\n",
    "from sklearn.linear_model import LinearRegression, Ridge, Lasso\n",
    "from sklearn.metrics import mean_squared_error, r2_score\n",
    "\n",
    "sns.set(style='whitegrid')\n",
    "\n",
    "np.random.seed(42)\n",
    "\n",
    "import torch\n",
    "import torch.nn as nn"
   ]
  },
  {
   "cell_type": "code",
   "execution_count": 3,
   "id": "9058362e",
   "metadata": {},
   "outputs": [
    {
     "ename": "FileNotFoundError",
     "evalue": "[Errno 2] No such file or directory: '../data/cleaned/player_attributes_cleaned.csv'",
     "output_type": "error",
     "traceback": [
      "\u001b[31m---------------------------------------------------------------------------\u001b[39m",
      "\u001b[31mFileNotFoundError\u001b[39m                         Traceback (most recent call last)",
      "\u001b[36mCell\u001b[39m\u001b[36m \u001b[39m\u001b[32mIn[3]\u001b[39m\u001b[32m, line 2\u001b[39m\n\u001b[32m      1\u001b[39m torch.manual_seed(\u001b[32m87\u001b[39m) \n\u001b[32m----> \u001b[39m\u001b[32m2\u001b[39m player_original_df = \u001b[43mpd\u001b[49m\u001b[43m.\u001b[49m\u001b[43mread_csv\u001b[49m\u001b[43m(\u001b[49m\u001b[33;43m'\u001b[39;49m\u001b[33;43m../data/cleaned/player_attributes_cleaned.csv\u001b[39;49m\u001b[33;43m'\u001b[39;49m\u001b[43m)\u001b[49m\n\u001b[32m      3\u001b[39m player_original_df.info()\n",
      "\u001b[36mFile \u001b[39m\u001b[32m/opt/miniconda3/envs/cosmos/lib/python3.12/site-packages/pandas/io/parsers/readers.py:1026\u001b[39m, in \u001b[36mread_csv\u001b[39m\u001b[34m(filepath_or_buffer, sep, delimiter, header, names, index_col, usecols, dtype, engine, converters, true_values, false_values, skipinitialspace, skiprows, skipfooter, nrows, na_values, keep_default_na, na_filter, verbose, skip_blank_lines, parse_dates, infer_datetime_format, keep_date_col, date_parser, date_format, dayfirst, cache_dates, iterator, chunksize, compression, thousands, decimal, lineterminator, quotechar, quoting, doublequote, escapechar, comment, encoding, encoding_errors, dialect, on_bad_lines, delim_whitespace, low_memory, memory_map, float_precision, storage_options, dtype_backend)\u001b[39m\n\u001b[32m   1013\u001b[39m kwds_defaults = _refine_defaults_read(\n\u001b[32m   1014\u001b[39m     dialect,\n\u001b[32m   1015\u001b[39m     delimiter,\n\u001b[32m   (...)\u001b[39m\u001b[32m   1022\u001b[39m     dtype_backend=dtype_backend,\n\u001b[32m   1023\u001b[39m )\n\u001b[32m   1024\u001b[39m kwds.update(kwds_defaults)\n\u001b[32m-> \u001b[39m\u001b[32m1026\u001b[39m \u001b[38;5;28;01mreturn\u001b[39;00m \u001b[43m_read\u001b[49m\u001b[43m(\u001b[49m\u001b[43mfilepath_or_buffer\u001b[49m\u001b[43m,\u001b[49m\u001b[43m \u001b[49m\u001b[43mkwds\u001b[49m\u001b[43m)\u001b[49m\n",
      "\u001b[36mFile \u001b[39m\u001b[32m/opt/miniconda3/envs/cosmos/lib/python3.12/site-packages/pandas/io/parsers/readers.py:620\u001b[39m, in \u001b[36m_read\u001b[39m\u001b[34m(filepath_or_buffer, kwds)\u001b[39m\n\u001b[32m    617\u001b[39m _validate_names(kwds.get(\u001b[33m\"\u001b[39m\u001b[33mnames\u001b[39m\u001b[33m\"\u001b[39m, \u001b[38;5;28;01mNone\u001b[39;00m))\n\u001b[32m    619\u001b[39m \u001b[38;5;66;03m# Create the parser.\u001b[39;00m\n\u001b[32m--> \u001b[39m\u001b[32m620\u001b[39m parser = \u001b[43mTextFileReader\u001b[49m\u001b[43m(\u001b[49m\u001b[43mfilepath_or_buffer\u001b[49m\u001b[43m,\u001b[49m\u001b[43m \u001b[49m\u001b[43m*\u001b[49m\u001b[43m*\u001b[49m\u001b[43mkwds\u001b[49m\u001b[43m)\u001b[49m\n\u001b[32m    622\u001b[39m \u001b[38;5;28;01mif\u001b[39;00m chunksize \u001b[38;5;129;01mor\u001b[39;00m iterator:\n\u001b[32m    623\u001b[39m     \u001b[38;5;28;01mreturn\u001b[39;00m parser\n",
      "\u001b[36mFile \u001b[39m\u001b[32m/opt/miniconda3/envs/cosmos/lib/python3.12/site-packages/pandas/io/parsers/readers.py:1620\u001b[39m, in \u001b[36mTextFileReader.__init__\u001b[39m\u001b[34m(self, f, engine, **kwds)\u001b[39m\n\u001b[32m   1617\u001b[39m     \u001b[38;5;28mself\u001b[39m.options[\u001b[33m\"\u001b[39m\u001b[33mhas_index_names\u001b[39m\u001b[33m\"\u001b[39m] = kwds[\u001b[33m\"\u001b[39m\u001b[33mhas_index_names\u001b[39m\u001b[33m\"\u001b[39m]\n\u001b[32m   1619\u001b[39m \u001b[38;5;28mself\u001b[39m.handles: IOHandles | \u001b[38;5;28;01mNone\u001b[39;00m = \u001b[38;5;28;01mNone\u001b[39;00m\n\u001b[32m-> \u001b[39m\u001b[32m1620\u001b[39m \u001b[38;5;28mself\u001b[39m._engine = \u001b[38;5;28;43mself\u001b[39;49m\u001b[43m.\u001b[49m\u001b[43m_make_engine\u001b[49m\u001b[43m(\u001b[49m\u001b[43mf\u001b[49m\u001b[43m,\u001b[49m\u001b[43m \u001b[49m\u001b[38;5;28;43mself\u001b[39;49m\u001b[43m.\u001b[49m\u001b[43mengine\u001b[49m\u001b[43m)\u001b[49m\n",
      "\u001b[36mFile \u001b[39m\u001b[32m/opt/miniconda3/envs/cosmos/lib/python3.12/site-packages/pandas/io/parsers/readers.py:1880\u001b[39m, in \u001b[36mTextFileReader._make_engine\u001b[39m\u001b[34m(self, f, engine)\u001b[39m\n\u001b[32m   1878\u001b[39m     \u001b[38;5;28;01mif\u001b[39;00m \u001b[33m\"\u001b[39m\u001b[33mb\u001b[39m\u001b[33m\"\u001b[39m \u001b[38;5;129;01mnot\u001b[39;00m \u001b[38;5;129;01min\u001b[39;00m mode:\n\u001b[32m   1879\u001b[39m         mode += \u001b[33m\"\u001b[39m\u001b[33mb\u001b[39m\u001b[33m\"\u001b[39m\n\u001b[32m-> \u001b[39m\u001b[32m1880\u001b[39m \u001b[38;5;28mself\u001b[39m.handles = \u001b[43mget_handle\u001b[49m\u001b[43m(\u001b[49m\n\u001b[32m   1881\u001b[39m \u001b[43m    \u001b[49m\u001b[43mf\u001b[49m\u001b[43m,\u001b[49m\n\u001b[32m   1882\u001b[39m \u001b[43m    \u001b[49m\u001b[43mmode\u001b[49m\u001b[43m,\u001b[49m\n\u001b[32m   1883\u001b[39m \u001b[43m    \u001b[49m\u001b[43mencoding\u001b[49m\u001b[43m=\u001b[49m\u001b[38;5;28;43mself\u001b[39;49m\u001b[43m.\u001b[49m\u001b[43moptions\u001b[49m\u001b[43m.\u001b[49m\u001b[43mget\u001b[49m\u001b[43m(\u001b[49m\u001b[33;43m\"\u001b[39;49m\u001b[33;43mencoding\u001b[39;49m\u001b[33;43m\"\u001b[39;49m\u001b[43m,\u001b[49m\u001b[43m \u001b[49m\u001b[38;5;28;43;01mNone\u001b[39;49;00m\u001b[43m)\u001b[49m\u001b[43m,\u001b[49m\n\u001b[32m   1884\u001b[39m \u001b[43m    \u001b[49m\u001b[43mcompression\u001b[49m\u001b[43m=\u001b[49m\u001b[38;5;28;43mself\u001b[39;49m\u001b[43m.\u001b[49m\u001b[43moptions\u001b[49m\u001b[43m.\u001b[49m\u001b[43mget\u001b[49m\u001b[43m(\u001b[49m\u001b[33;43m\"\u001b[39;49m\u001b[33;43mcompression\u001b[39;49m\u001b[33;43m\"\u001b[39;49m\u001b[43m,\u001b[49m\u001b[43m \u001b[49m\u001b[38;5;28;43;01mNone\u001b[39;49;00m\u001b[43m)\u001b[49m\u001b[43m,\u001b[49m\n\u001b[32m   1885\u001b[39m \u001b[43m    \u001b[49m\u001b[43mmemory_map\u001b[49m\u001b[43m=\u001b[49m\u001b[38;5;28;43mself\u001b[39;49m\u001b[43m.\u001b[49m\u001b[43moptions\u001b[49m\u001b[43m.\u001b[49m\u001b[43mget\u001b[49m\u001b[43m(\u001b[49m\u001b[33;43m\"\u001b[39;49m\u001b[33;43mmemory_map\u001b[39;49m\u001b[33;43m\"\u001b[39;49m\u001b[43m,\u001b[49m\u001b[43m \u001b[49m\u001b[38;5;28;43;01mFalse\u001b[39;49;00m\u001b[43m)\u001b[49m\u001b[43m,\u001b[49m\n\u001b[32m   1886\u001b[39m \u001b[43m    \u001b[49m\u001b[43mis_text\u001b[49m\u001b[43m=\u001b[49m\u001b[43mis_text\u001b[49m\u001b[43m,\u001b[49m\n\u001b[32m   1887\u001b[39m \u001b[43m    \u001b[49m\u001b[43merrors\u001b[49m\u001b[43m=\u001b[49m\u001b[38;5;28;43mself\u001b[39;49m\u001b[43m.\u001b[49m\u001b[43moptions\u001b[49m\u001b[43m.\u001b[49m\u001b[43mget\u001b[49m\u001b[43m(\u001b[49m\u001b[33;43m\"\u001b[39;49m\u001b[33;43mencoding_errors\u001b[39;49m\u001b[33;43m\"\u001b[39;49m\u001b[43m,\u001b[49m\u001b[43m \u001b[49m\u001b[33;43m\"\u001b[39;49m\u001b[33;43mstrict\u001b[39;49m\u001b[33;43m\"\u001b[39;49m\u001b[43m)\u001b[49m\u001b[43m,\u001b[49m\n\u001b[32m   1888\u001b[39m \u001b[43m    \u001b[49m\u001b[43mstorage_options\u001b[49m\u001b[43m=\u001b[49m\u001b[38;5;28;43mself\u001b[39;49m\u001b[43m.\u001b[49m\u001b[43moptions\u001b[49m\u001b[43m.\u001b[49m\u001b[43mget\u001b[49m\u001b[43m(\u001b[49m\u001b[33;43m\"\u001b[39;49m\u001b[33;43mstorage_options\u001b[39;49m\u001b[33;43m\"\u001b[39;49m\u001b[43m,\u001b[49m\u001b[43m \u001b[49m\u001b[38;5;28;43;01mNone\u001b[39;49;00m\u001b[43m)\u001b[49m\u001b[43m,\u001b[49m\n\u001b[32m   1889\u001b[39m \u001b[43m\u001b[49m\u001b[43m)\u001b[49m\n\u001b[32m   1890\u001b[39m \u001b[38;5;28;01massert\u001b[39;00m \u001b[38;5;28mself\u001b[39m.handles \u001b[38;5;129;01mis\u001b[39;00m \u001b[38;5;129;01mnot\u001b[39;00m \u001b[38;5;28;01mNone\u001b[39;00m\n\u001b[32m   1891\u001b[39m f = \u001b[38;5;28mself\u001b[39m.handles.handle\n",
      "\u001b[36mFile \u001b[39m\u001b[32m/opt/miniconda3/envs/cosmos/lib/python3.12/site-packages/pandas/io/common.py:873\u001b[39m, in \u001b[36mget_handle\u001b[39m\u001b[34m(path_or_buf, mode, encoding, compression, memory_map, is_text, errors, storage_options)\u001b[39m\n\u001b[32m    868\u001b[39m \u001b[38;5;28;01melif\u001b[39;00m \u001b[38;5;28misinstance\u001b[39m(handle, \u001b[38;5;28mstr\u001b[39m):\n\u001b[32m    869\u001b[39m     \u001b[38;5;66;03m# Check whether the filename is to be opened in binary mode.\u001b[39;00m\n\u001b[32m    870\u001b[39m     \u001b[38;5;66;03m# Binary mode does not support 'encoding' and 'newline'.\u001b[39;00m\n\u001b[32m    871\u001b[39m     \u001b[38;5;28;01mif\u001b[39;00m ioargs.encoding \u001b[38;5;129;01mand\u001b[39;00m \u001b[33m\"\u001b[39m\u001b[33mb\u001b[39m\u001b[33m\"\u001b[39m \u001b[38;5;129;01mnot\u001b[39;00m \u001b[38;5;129;01min\u001b[39;00m ioargs.mode:\n\u001b[32m    872\u001b[39m         \u001b[38;5;66;03m# Encoding\u001b[39;00m\n\u001b[32m--> \u001b[39m\u001b[32m873\u001b[39m         handle = \u001b[38;5;28;43mopen\u001b[39;49m\u001b[43m(\u001b[49m\n\u001b[32m    874\u001b[39m \u001b[43m            \u001b[49m\u001b[43mhandle\u001b[49m\u001b[43m,\u001b[49m\n\u001b[32m    875\u001b[39m \u001b[43m            \u001b[49m\u001b[43mioargs\u001b[49m\u001b[43m.\u001b[49m\u001b[43mmode\u001b[49m\u001b[43m,\u001b[49m\n\u001b[32m    876\u001b[39m \u001b[43m            \u001b[49m\u001b[43mencoding\u001b[49m\u001b[43m=\u001b[49m\u001b[43mioargs\u001b[49m\u001b[43m.\u001b[49m\u001b[43mencoding\u001b[49m\u001b[43m,\u001b[49m\n\u001b[32m    877\u001b[39m \u001b[43m            \u001b[49m\u001b[43merrors\u001b[49m\u001b[43m=\u001b[49m\u001b[43merrors\u001b[49m\u001b[43m,\u001b[49m\n\u001b[32m    878\u001b[39m \u001b[43m            \u001b[49m\u001b[43mnewline\u001b[49m\u001b[43m=\u001b[49m\u001b[33;43m\"\u001b[39;49m\u001b[33;43m\"\u001b[39;49m\u001b[43m,\u001b[49m\n\u001b[32m    879\u001b[39m \u001b[43m        \u001b[49m\u001b[43m)\u001b[49m\n\u001b[32m    880\u001b[39m     \u001b[38;5;28;01melse\u001b[39;00m:\n\u001b[32m    881\u001b[39m         \u001b[38;5;66;03m# Binary mode\u001b[39;00m\n\u001b[32m    882\u001b[39m         handle = \u001b[38;5;28mopen\u001b[39m(handle, ioargs.mode)\n",
      "\u001b[31mFileNotFoundError\u001b[39m: [Errno 2] No such file or directory: '../data/cleaned/player_attributes_cleaned.csv'"
     ]
    }
   ],
   "source": [
    "torch.manual_seed(87) \n",
    "player_original_df = pd.read_csv('../data/cleaned/player_attributes_cleaned.csv')\n",
    "player_original_df.info()"
   ]
  },
  {
   "cell_type": "code",
   "execution_count": null,
   "id": "60213809",
   "metadata": {},
   "outputs": [
    {
     "name": "stdout",
     "output_type": "stream",
     "text": [
      "<class 'pandas.core.frame.DataFrame'>\n",
      "RangeIndex: 177037 entries, 0 to 177036\n",
      "Data columns (total 42 columns):\n",
      " #   Column               Non-Null Count   Dtype  \n",
      "---  ------               --------------   -----  \n",
      " 0   player_api_id        177037 non-null  int64  \n",
      " 1   height               177037 non-null  float64\n",
      " 2   weight               177037 non-null  float64\n",
      " 3   age                  177037 non-null  float64\n",
      " 4   overall_rating       177037 non-null  float64\n",
      " 5   potential            177037 non-null  float64\n",
      " 6   preferred_foot       177037 non-null  float64\n",
      " 7   attacking_work_rate  177037 non-null  float64\n",
      " 8   defensive_work_rate  177037 non-null  float64\n",
      " 9   crossing             177037 non-null  float64\n",
      " 10  finishing            177037 non-null  float64\n",
      " 11  heading_accuracy     177037 non-null  float64\n",
      " 12  short_passing        177037 non-null  float64\n",
      " 13  volleys              177037 non-null  float64\n",
      " 14  dribbling            177037 non-null  float64\n",
      " 15  curve                177037 non-null  float64\n",
      " 16  free_kick_accuracy   177037 non-null  float64\n",
      " 17  long_passing         177037 non-null  float64\n",
      " 18  ball_control         177037 non-null  float64\n",
      " 19  acceleration         177037 non-null  float64\n",
      " 20  sprint_speed         177037 non-null  float64\n",
      " 21  agility              177037 non-null  float64\n",
      " 22  reactions            177037 non-null  float64\n",
      " 23  balance              177037 non-null  float64\n",
      " 24  shot_power           177037 non-null  float64\n",
      " 25  jumping              177037 non-null  float64\n",
      " 26  stamina              177037 non-null  float64\n",
      " 27  strength             177037 non-null  float64\n",
      " 28  long_shots           177037 non-null  float64\n",
      " 29  aggression           177037 non-null  float64\n",
      " 30  interceptions        177037 non-null  float64\n",
      " 31  positioning          177037 non-null  float64\n",
      " 32  vision               177037 non-null  float64\n",
      " 33  penalties            177037 non-null  float64\n",
      " 34  marking              177037 non-null  float64\n",
      " 35  standing_tackle      177037 non-null  float64\n",
      " 36  sliding_tackle       177037 non-null  float64\n",
      " 37  gk_diving            177037 non-null  float64\n",
      " 38  gk_handling          177037 non-null  float64\n",
      " 39  gk_kicking           177037 non-null  float64\n",
      " 40  gk_positioning       177037 non-null  float64\n",
      " 41  gk_reflexes          177037 non-null  float64\n",
      "dtypes: float64(41), int64(1)\n",
      "memory usage: 56.7 MB\n"
     ]
    }
   ],
   "source": [
    "player_cleaned_df = player_original_df.drop(columns=['date', 'player_name'])\n",
    "player_cleaned_df.head(20)\n",
    "player_cleaned_df.info()"
   ]
  },
  {
   "cell_type": "code",
   "execution_count": null,
   "id": "4c401cf4",
   "metadata": {},
   "outputs": [],
   "source": [
    "import numpy as np\n",
    "import torch\n",
    "\n",
    "# Define which columns to use as input features\n",
    "feature_cols = [col for col in player_cleaned_df.columns if col not in ['overall_rating', 'player_api_id']]\n",
    "sequence_length = 3\n",
    "\n",
    "X_list = []\n",
    "y_list = []\n",
    "\n",
    "# Group data by player\n",
    "for _, group in player_cleaned_df.groupby('player_api_id'):\n",
    "    group = group.reset_index(drop=True)\n",
    "    if len(group) <= sequence_length:\n",
    "        continue\n",
    "\n",
    "    for i in range(len(group) - sequence_length):\n",
    "        X_seq = group.loc[i:i+sequence_length-1, feature_cols].to_numpy(dtype=np.float32)\n",
    "        y_val = group.loc[i + sequence_length, 'overall_rating']  # <== here's the `y_val` you mentioned\n",
    "        X_list.append(X_seq)\n",
    "        y_list.append(y_val)\n",
    "\n",
    "# Convert to PyTorch tensors\n",
    "X_tensor = torch.tensor(np.stack(X_list))           # Shape: (samples, seq_len, features)\n",
    "y_tensor = torch.tensor(y_list, dtype=torch.float32).unsqueeze(1)  # Shape: (samples, 1)\n"
   ]
  },
  {
   "cell_type": "code",
   "execution_count": null,
   "id": "c82e5164",
   "metadata": {},
   "outputs": [],
   "source": [
    "import torch.nn as nn\n",
    "\n",
    "class PlayerRatingLSTM(nn.Module):\n",
    "    def __init__(self, input_size, hidden_size=64):\n",
    "        super().__init__()\n",
    "        self.lstm = nn.LSTM(input_size=input_size, hidden_size=hidden_size, batch_first=True)\n",
    "        self.fc = nn.Sequential(\n",
    "            nn.Linear(hidden_size, 32),\n",
    "            nn.ReLU(),\n",
    "            nn.Linear(32, 1)\n",
    "        )\n",
    "\n",
    "    def forward(self, x):\n",
    "        out, _ = self.lstm(x)  # out: (batch, seq_len, hidden_size)\n",
    "        last_output = out[:, -1, :]  # Take the last time step\n",
    "        return self.fc(last_output)\n"
   ]
  },
  {
   "cell_type": "code",
   "execution_count": null,
   "id": "49d6f901",
   "metadata": {},
   "outputs": [],
   "source": [
    "class CustomLoss(nn.Module):\n",
    "    def __init__(self):\n",
    "        super(CustomLoss, self).__init__()\n",
    "\n",
    "    def forward(self, predictions, targets):\n",
    "        return torch.mean((predictions - targets)[3:] ** 2)"
   ]
  },
  {
   "cell_type": "code",
   "execution_count": null,
   "id": "d1ecea06",
   "metadata": {},
   "outputs": [],
   "source": [
    "from torch.utils.data import TensorDataset, DataLoader\n",
    "\n",
    "# Train/val split\n",
    "train_ratio = 0.8\n",
    "n_total = X_tensor.shape[0]\n",
    "n_train = int(n_total * train_ratio)\n",
    "\n",
    "X_train, X_val = X_tensor[:n_train], X_tensor[n_train:]\n",
    "y_train, y_val = y_tensor[:n_train], y_tensor[n_train:]\n",
    "\n",
    "train_ds = TensorDataset(X_train, y_train)\n",
    "val_ds = TensorDataset(X_val, y_val)\n",
    "\n",
    "train_loader = DataLoader(train_ds, batch_size=64, shuffle=True)\n",
    "val_loader = DataLoader(val_ds, batch_size=64)\n",
    "\n",
    "# Model setup\n",
    "device = torch.device(\"cuda\" if torch.cuda.is_available() else \"cpu\")\n",
    "model = PlayerRatingLSTM(input_size=X_tensor.shape[2]).to(device)\n",
    "loss_fn = CustomLoss()\n",
    "optimizer = torch.optim.Adam(model.parameters(), lr=0.001)\n"
   ]
  },
  {
   "cell_type": "code",
   "execution_count": null,
   "id": "3d4225f5",
   "metadata": {},
   "outputs": [
    {
     "name": "stdout",
     "output_type": "stream",
     "text": [
      "Epoch 1/30, Train Loss: 345.3994, Val Loss: 25.6477\n",
      "Epoch 2/30, Train Loss: 13.7037, Val Loss: 16.8538\n",
      "Epoch 3/30, Train Loss: 10.4791, Val Loss: 12.6455\n",
      "Epoch 4/30, Train Loss: 8.9974, Val Loss: 12.0698\n",
      "Epoch 5/30, Train Loss: 8.0733, Val Loss: 16.3820\n",
      "Epoch 6/30, Train Loss: 7.7440, Val Loss: 13.3277\n",
      "Epoch 7/30, Train Loss: 7.6051, Val Loss: 10.0766\n",
      "Epoch 8/30, Train Loss: 7.3952, Val Loss: 14.4274\n",
      "Epoch 9/30, Train Loss: 7.1919, Val Loss: 9.9883\n",
      "Epoch 10/30, Train Loss: 7.0049, Val Loss: 9.4252\n",
      "Epoch 11/30, Train Loss: 6.9208, Val Loss: 7.9682\n",
      "Epoch 12/30, Train Loss: 6.6913, Val Loss: 8.2119\n",
      "Epoch 13/30, Train Loss: 6.6120, Val Loss: 9.4277\n",
      "Epoch 14/30, Train Loss: 6.4145, Val Loss: 8.3120\n",
      "Epoch 15/30, Train Loss: 6.2965, Val Loss: 7.7564\n",
      "Epoch 16/30, Train Loss: 6.1964, Val Loss: 7.5217\n",
      "Epoch 17/30, Train Loss: 6.0438, Val Loss: 7.4809\n",
      "Epoch 18/30, Train Loss: 6.0011, Val Loss: 7.2870\n",
      "Epoch 19/30, Train Loss: 5.8776, Val Loss: 6.9573\n",
      "Epoch 20/30, Train Loss: 5.7963, Val Loss: 10.0613\n",
      "Epoch 21/30, Train Loss: 5.7120, Val Loss: 8.0903\n",
      "Epoch 22/30, Train Loss: 5.6610, Val Loss: 6.6257\n",
      "Epoch 23/30, Train Loss: 5.5576, Val Loss: 8.3830\n",
      "Epoch 24/30, Train Loss: 5.5564, Val Loss: 9.3946\n",
      "Epoch 25/30, Train Loss: 5.5216, Val Loss: 7.1383\n",
      "Epoch 26/30, Train Loss: 5.5436, Val Loss: 7.2704\n",
      "Epoch 27/30, Train Loss: 5.5000, Val Loss: 6.4120\n",
      "Epoch 28/30, Train Loss: 5.3899, Val Loss: 7.3834\n",
      "Epoch 29/30, Train Loss: 5.4973, Val Loss: 6.8246\n",
      "Epoch 30/30, Train Loss: 5.3021, Val Loss: 10.6637\n",
      "Training completed!\n",
      "Best loss: 6.4120\n"
     ]
    }
   ],
   "source": [
    "# History\n",
    "train_losses = []\n",
    "val_losses = []\n",
    "\n",
    "# Best model\n",
    "best_val_loss = float('inf')     # starting with infinity\n",
    "best_model_state = None          # best model parameters\n",
    "\n",
    "mae_loss = nn.L1Loss()\n",
    "\n",
    "# Train loop\n",
    "n_epochs = 30\n",
    "for epoch in range(n_epochs):\n",
    "    model.train()\n",
    "    train_loss = 0.0\n",
    "    for xb, yb in train_loader:\n",
    "        xb, yb = xb.to(device), yb.to(device)\n",
    "        pred = model(xb)\n",
    "        loss = loss_fn(pred, yb)\n",
    "        optimizer.zero_grad()\n",
    "        loss.backward()\n",
    "        optimizer.step()\n",
    "        train_loss += loss.item()\n",
    "\n",
    "    model.eval()\n",
    "    val_loss = 0.0\n",
    "    with torch.no_grad():\n",
    "        for xb, yb in val_loader:\n",
    "            xb, yb = xb.to(device), yb.to(device)\n",
    "            val_loss += loss_fn(model(xb), yb).item()\n",
    "            \n",
    "    avg_train_loss = train_loss / len(train_loader)\n",
    "    avg_val_loss = val_loss / len(val_loader)\n",
    "    train_losses.append(avg_train_loss)\n",
    "    val_losses.append(avg_val_loss)\n",
    "\n",
    "    # Save best model\n",
    "    if avg_val_loss < best_val_loss:\n",
    "        best_val_loss = avg_val_loss\n",
    "        best_model_state = model.state_dict()\n",
    "            \n",
    "    print(f\"Epoch {epoch+1}/{n_epochs}, Train Loss: {train_loss/len(train_loader):.4f}, Val Loss: {val_loss/len(val_loader):.4f}\")\n",
    "\n",
    "print(\"Training completed!\")\n",
    "\n",
    "model.load_state_dict(best_model_state)        # Recover the best model\n",
    "print(f\"Best loss: {best_val_loss:.4f}\")"
   ]
  },
  {
   "cell_type": "code",
   "execution_count": null,
   "id": "6040dfe7",
   "metadata": {},
   "outputs": [
    {
     "name": "stdout",
     "output_type": "stream",
     "text": [
      "Predicted Rating: 64.64\n",
      "Actual Rating:    63.00\n"
     ]
    }
   ],
   "source": [
    "import random\n",
    "i = random.randint(0, X_tensor.shape[0] - 1)  # change this to test different examples\n",
    "\n",
    "# Move input and true label to device\n",
    "sample_input = X_tensor[i:i+1].to(device)     # Shape: (1, seq_len, features)\n",
    "actual_rating = y_tensor[i].item()            # Scalar\n",
    "\n",
    "# Get prediction\n",
    "model.eval()\n",
    "with torch.no_grad():\n",
    "    predicted_rating = model(sample_input).item()\n",
    "\n",
    "print(f\"Predicted Rating: {predicted_rating:.2f}\")\n",
    "print(f\"Actual Rating:    {actual_rating:.2f}\")\n"
   ]
  },
  {
   "cell_type": "code",
   "execution_count": null,
   "id": "0776191c",
   "metadata": {},
   "outputs": [
    {
     "data": {
      "image/png": "[encoded data removed]",
      "text/plain": [
       "<Figure size 800x500 with 1 Axes>"
      ]
     },
     "metadata": {},
     "output_type": "display_data"
    }
   ],
   "source": [
    "from torch.nn import L1Loss\n",
    "\n",
    "# Randomly sample 1000 points from the dataset\n",
    "sample_indices = torch.randperm(len(X_tensor))[:1000]\n",
    "X_sample = X_tensor[sample_indices].to(device)\n",
    "y_sample = y_tensor[sample_indices].to(device)\n",
    "\n",
    "model.eval()\n",
    "with torch.no_grad():\n",
    "    preds = model(X_sample)\n",
    "\n",
    "mae = L1Loss(reduction='none')\n",
    "losses = mae(preds, y_sample).cpu().numpy()\n",
    "\n",
    "plt.figure(figsize=(8, 5))  \n",
    "plt.hist(losses, bins=40, color='skyblue', edgecolor='black')\n",
    "plt.xlabel(\"Mean Absolute Error\")\n",
    "plt.ylabel(\"Frequency\")\n",
    "plt.title(\"Distribution of MAE over 1000 Sampled Predictions\")\n",
    "plt.grid(True)\n",
    "plt.show()\n"
   ]
  },
  {
   "cell_type": "code",
   "execution_count": null,
   "id": "800e3698",
   "metadata": {},
   "outputs": [],
   "source": [
    "import ipywidgets as widgets\n",
    "from IPython.display import display, clear_output\n",
    "\n",
    "# Choose a player_api_id to visualize\n",
    "player_id = player_cleaned_df['player_api_id'].iloc[0]  # You can change this to any valid player_api_id\n",
    "\n",
    "# Get all rows for this player\n",
    "player_df = player_cleaned_df[player_cleaned_df['player_api_id'] == player_id].reset_index(drop=True)\n",
    "\n",
    "# Prepare input sequences for this player (skip first 'sequence_length' entries)\n",
    "X_player = []\n",
    "for i in range(len(player_df) - sequence_length):\n",
    "    X_seq = player_df.loc[i:i+sequence_length-1, feature_cols].to_numpy(dtype=np.float32)\n",
    "    X_player.append(X_seq)\n",
    "X_player_tensor = torch.tensor(np.stack(X_player)).to(device)\n",
    "\n",
    "# Predict ratings\n",
    "model.eval()\n",
    "with torch.no_grad():\n",
    "    preds = model(X_player_tensor).cpu().numpy().flatten()\n",
    "\n",
    "# Actual ratings (skip first 'sequence_length' entries to align with predictions)\n",
    "actual_ratings = player_df['overall_rating'].iloc[sequence_length:].to_numpy()"
   ]
  },
  {
   "cell_type": "code",
   "execution_count": null,
   "id": "48b67d39",
   "metadata": {},
   "outputs": [
    {
     "name": "stderr",
     "output_type": "stream",
     "text": [
      "\n",
      "KeyboardInterrupt\n",
      "\n"
     ]
    }
   ],
   "source": [
    "def MSE(actual_ratings, preds):\n",
    "    return np.mean((actual_ratings - preds) ** 2)\n",
    "\n",
    "def plot_player(player_id):\n",
    "    player_df = player_original_df[player_original_df['player_api_id'] == player_id].reset_index(drop=True)\n",
    "    player_name = player_df.iloc[0]['player_name']\n",
    "    X_player = []\n",
    "    for i in range(len(player_df) - sequence_length):\n",
    "        X_seq = player_df.loc[i:i+sequence_length-1, feature_cols].to_numpy(dtype=np.float32)\n",
    "        X_player.append(X_seq)\n",
    "    if len(X_player) == 0:\n",
    "        print(f\"Player {player_id} does not have enough records.\")\n",
    "        return\n",
    "    X_player_tensor = torch.tensor(np.stack(X_player)).to(device)\n",
    "    model.eval()\n",
    "    with torch.no_grad():\n",
    "        preds = model(X_player_tensor).cpu().numpy().flatten()\n",
    "    # Actual ratings\n",
    "    #  (skip first 'sequence_length' entries to align with predictions)\n",
    "    actual_ratings = player_df['overall_rating'].iloc[sequence_length:].to_numpy()\n",
    "    ages = player_df['age'].iloc[sequence_length:].to_numpy()\n",
    "    mse = MSE(actual_ratings, preds)\n",
    "    y_min = min(actual_ratings.min(), preds.min())\n",
    "    y_max = max(actual_ratings.max(), preds.max())\n",
    "    if y_max - y_min < 18:\n",
    "        center = (y_min + y_max) / 2\n",
    "        y_lower = center - 7.5\n",
    "        y_upper = center + 7.5\n",
    "    else:\n",
    "        y_lower = y_min\n",
    "        y_upper = y_max\n",
    "    plt.figure(figsize=(10, 5))\n",
    "    plt.plot(ages, actual_ratings, label='Actual Rating', marker='o')\n",
    "    plt.plot(ages, preds, label='Predicted Rating', marker='x')\n",
    "    for age, actual, pred in zip(ages, actual_ratings, preds):\n",
    "        plt.plot([age, age], [actual, pred], color='gray', linestyle='--', linewidth=0.7)\n",
    "\n",
    "    plt.xlabel('Age')\n",
    "    plt.ylabel('Overall Rating')\n",
    "    plt.title(f'{player_name} - Actual vs Predicted Ratings\\nPlayer ID: {player_id} \\nMSE: {mse:.2f}')\n",
    "\n",
    "    plt.legend()\n",
    "    plt.ylim(y_lower -3, y_upper+3)\n",
    "    plt.show()\n",
    "\n",
    "button = widgets.Button(description=\"Random Player\")\n",
    "output = widgets.Output()\n",
    "\n",
    "def on_button_clicked(b):\n",
    "    with output:\n",
    "        clear_output(wait=True)\n",
    "        random_id = np.random.choice(player_cleaned_df['player_api_id'].unique())\n",
    "        plot_player(random_id)\n",
    "\n",
    "button.on_click(on_button_clicked)\n",
    "display(button, output)\n"
   ]
  },
  {
   "cell_type": "code",
   "execution_count": null,
   "id": "cda2c8da",
   "metadata": {},
   "outputs": [],
   "source": [
    "#from models import PlayerRatingLSTM\n",
    "model = PlayerRatingLSTM(input_size=X_tensor.shape[2])\n",
    "torch.save(model, \"model.pkl\")\n",
    "torch.save(model.state_dict(), 'player_nn_model_weights.pth')"
   ]
  },
  {
   "cell_type": "code",
   "execution_count": null,
   "id": "788c6a41",
   "metadata": {},
   "outputs": [
    {
     "name": "stdout",
     "output_type": "stream",
     "text": [
      "40\n"
     ]
    }
   ],
   "source": [
    "print(X_tensor.shape[2])\n"
   ]
  },
  {
   "cell_type": "code",
   "execution_count": null,
   "id": "a7e9e136",
   "metadata": {},
   "outputs": [],
   "source": [
    "import pickle \n",
    "\n",
    "with open('../models/player_nn_model.pkl', 'wb') as f:\n",
    "    pickle.dump(model, f)\n",
    "\n"
   ]
  }
 ],
 "metadata": {
  "kernelspec": {
   "display_name": "cosmos",
   "language": "python",
   "name": "python3"
  },
  "language_info": {
   "codemirror_mode": {
    "name": "ipython",
    "version": 3
   },
   "file_extension": ".py",
   "mimetype": "text/x-python",
   "name": "python",
   "nbconvert_exporter": "python",
   "pygments_lexer": "ipython3",
   "version": "3.12.11"
  }
 },
 "nbformat": 4,
 "nbformat_minor": 5
}
