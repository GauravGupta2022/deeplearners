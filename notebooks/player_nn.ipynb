{
 "cells": [
  {
   "cell_type": "code",
   "execution_count": 110,
   "id": "5a2520f9",
   "metadata": {},
   "outputs": [],
   "source": [
    "import pandas as pd\n",
    "import numpy as np\n",
    "import matplotlib.pyplot as plt\n",
    "import seaborn as sns\n",
    "\n",
    "from sklearn.preprocessing import StandardScaler\n",
    "from sklearn.decomposition import PCA\n",
    "from sklearn.cluster import KMeans\n",
    "from sklearn.linear_model import LinearRegression, Ridge, Lasso\n",
    "from sklearn.metrics import mean_squared_error, r2_score\n",
    "\n",
    "sns.set(style='whitegrid')\n",
    "\n",
    "np.random.seed(42)\n",
    "\n",
    "import torch\n",
    "import torch.nn as nn"
   ]
  },
  {
   "cell_type": "code",
   "execution_count": 111,
   "id": "9058362e",
   "metadata": {},
   "outputs": [
    {
     "name": "stdout",
     "output_type": "stream",
     "text": [
      "<class 'pandas.core.frame.DataFrame'>\n",
      "RangeIndex: 177037 entries, 0 to 177036\n",
      "Data columns (total 43 columns):\n",
      " #   Column               Non-Null Count   Dtype  \n",
      "---  ------               --------------   -----  \n",
      " 0   player_api_id        177037 non-null  int64  \n",
      " 1   height               177037 non-null  float64\n",
      " 2   weight               177037 non-null  float64\n",
      " 3   date                 177037 non-null  object \n",
      " 4   age                  177037 non-null  float64\n",
      " 5   overall_rating       177037 non-null  float64\n",
      " 6   potential            177037 non-null  float64\n",
      " 7   preferred_foot       177037 non-null  float64\n",
      " 8   attacking_work_rate  177037 non-null  float64\n",
      " 9   defensive_work_rate  177037 non-null  float64\n",
      " 10  crossing             177037 non-null  float64\n",
      " 11  finishing            177037 non-null  float64\n",
      " 12  heading_accuracy     177037 non-null  float64\n",
      " 13  short_passing        177037 non-null  float64\n",
      " 14  volleys              177037 non-null  float64\n",
      " 15  dribbling            177037 non-null  float64\n",
      " 16  curve                177037 non-null  float64\n",
      " 17  free_kick_accuracy   177037 non-null  float64\n",
      " 18  long_passing         177037 non-null  float64\n",
      " 19  ball_control         177037 non-null  float64\n",
      " 20  acceleration         177037 non-null  float64\n",
      " 21  sprint_speed         177037 non-null  float64\n",
      " 22  agility              177037 non-null  float64\n",
      " 23  reactions            177037 non-null  float64\n",
      " 24  balance              177037 non-null  float64\n",
      " 25  shot_power           177037 non-null  float64\n",
      " 26  jumping              177037 non-null  float64\n",
      " 27  stamina              177037 non-null  float64\n",
      " 28  strength             177037 non-null  float64\n",
      " 29  long_shots           177037 non-null  float64\n",
      " 30  aggression           177037 non-null  float64\n",
      " 31  interceptions        177037 non-null  float64\n",
      " 32  positioning          177037 non-null  float64\n",
      " 33  vision               177037 non-null  float64\n",
      " 34  penalties            177037 non-null  float64\n",
      " 35  marking              177037 non-null  float64\n",
      " 36  standing_tackle      177037 non-null  float64\n",
      " 37  sliding_tackle       177037 non-null  float64\n",
      " 38  gk_diving            177037 non-null  float64\n",
      " 39  gk_handling          177037 non-null  float64\n",
      " 40  gk_kicking           177037 non-null  float64\n",
      " 41  gk_positioning       177037 non-null  float64\n",
      " 42  gk_reflexes          177037 non-null  float64\n",
      "dtypes: float64(41), int64(1), object(1)\n",
      "memory usage: 58.1+ MB\n"
     ]
    }
   ],
   "source": [
    "torch.manual_seed(87) \n",
    "player_cleaned_df = pd.read_csv('../data/cleaned/player_attributes_cleaned.csv')\n",
    "player_cleaned_df.info()"
   ]
  },
  {
   "cell_type": "code",
   "execution_count": 112,
   "id": "60213809",
   "metadata": {},
   "outputs": [
    {
     "name": "stdout",
     "output_type": "stream",
     "text": [
      "<class 'pandas.core.frame.DataFrame'>\n",
      "RangeIndex: 177037 entries, 0 to 177036\n",
      "Data columns (total 42 columns):\n",
      " #   Column               Non-Null Count   Dtype  \n",
      "---  ------               --------------   -----  \n",
      " 0   player_api_id        177037 non-null  int64  \n",
      " 1   height               177037 non-null  float64\n",
      " 2   weight               177037 non-null  float64\n",
      " 3   age                  177037 non-null  float64\n",
      " 4   overall_rating       177037 non-null  float64\n",
      " 5   potential            177037 non-null  float64\n",
      " 6   preferred_foot       177037 non-null  float64\n",
      " 7   attacking_work_rate  177037 non-null  float64\n",
      " 8   defensive_work_rate  177037 non-null  float64\n",
      " 9   crossing             177037 non-null  float64\n",
      " 10  finishing            177037 non-null  float64\n",
      " 11  heading_accuracy     177037 non-null  float64\n",
      " 12  short_passing        177037 non-null  float64\n",
      " 13  volleys              177037 non-null  float64\n",
      " 14  dribbling            177037 non-null  float64\n",
      " 15  curve                177037 non-null  float64\n",
      " 16  free_kick_accuracy   177037 non-null  float64\n",
      " 17  long_passing         177037 non-null  float64\n",
      " 18  ball_control         177037 non-null  float64\n",
      " 19  acceleration         177037 non-null  float64\n",
      " 20  sprint_speed         177037 non-null  float64\n",
      " 21  agility              177037 non-null  float64\n",
      " 22  reactions            177037 non-null  float64\n",
      " 23  balance              177037 non-null  float64\n",
      " 24  shot_power           177037 non-null  float64\n",
      " 25  jumping              177037 non-null  float64\n",
      " 26  stamina              177037 non-null  float64\n",
      " 27  strength             177037 non-null  float64\n",
      " 28  long_shots           177037 non-null  float64\n",
      " 29  aggression           177037 non-null  float64\n",
      " 30  interceptions        177037 non-null  float64\n",
      " 31  positioning          177037 non-null  float64\n",
      " 32  vision               177037 non-null  float64\n",
      " 33  penalties            177037 non-null  float64\n",
      " 34  marking              177037 non-null  float64\n",
      " 35  standing_tackle      177037 non-null  float64\n",
      " 36  sliding_tackle       177037 non-null  float64\n",
      " 37  gk_diving            177037 non-null  float64\n",
      " 38  gk_handling          177037 non-null  float64\n",
      " 39  gk_kicking           177037 non-null  float64\n",
      " 40  gk_positioning       177037 non-null  float64\n",
      " 41  gk_reflexes          177037 non-null  float64\n",
      "dtypes: float64(41), int64(1)\n",
      "memory usage: 56.7 MB\n"
     ]
    }
   ],
   "source": [
    "player_cleaned_df = player_cleaned_df.drop(columns=['date'])\n",
    "player_cleaned_df.head(20)\n",
    "player_cleaned_df.info()"
   ]
  },
  {
   "cell_type": "code",
   "execution_count": 113,
   "id": "4c401cf4",
   "metadata": {},
   "outputs": [],
   "source": [
    "import numpy as np\n",
    "import torch\n",
    "\n",
    "# Define which columns to use as input features\n",
    "feature_cols = [col for col in player_cleaned_df.columns if col not in ['overall_rating', 'player_api_id']]\n",
    "sequence_length = 3\n",
    "\n",
    "X_list = []\n",
    "y_list = []\n",
    "\n",
    "# Group data by player\n",
    "for _, group in player_cleaned_df.groupby('player_api_id'):\n",
    "    group = group.reset_index(drop=True)\n",
    "    if len(group) <= sequence_length:\n",
    "        continue\n",
    "\n",
    "    for i in range(len(group) - sequence_length):\n",
    "        X_seq = group.loc[i:i+sequence_length-1, feature_cols].to_numpy(dtype=np.float32)\n",
    "        y_val = group.loc[i + sequence_length, 'overall_rating']  # <== here's the `y_val` you mentioned\n",
    "        X_list.append(X_seq)\n",
    "        y_list.append(y_val)\n",
    "\n",
    "# Convert to PyTorch tensors\n",
    "X_tensor = torch.tensor(np.stack(X_list))           # Shape: (samples, seq_len, features)\n",
    "y_tensor = torch.tensor(y_list, dtype=torch.float32).unsqueeze(1)  # Shape: (samples, 1)\n"
   ]
  },
  {
   "cell_type": "code",
   "execution_count": 114,
   "id": "c82e5164",
   "metadata": {},
   "outputs": [],
   "source": [
    "import torch.nn as nn\n",
    "\n",
    "class PlayerRatingLSTM(nn.Module):\n",
    "    def __init__(self, input_size, hidden_size=64):\n",
    "        super().__init__()\n",
    "        self.lstm = nn.LSTM(input_size=input_size, hidden_size=hidden_size, batch_first=True)\n",
    "        self.fc = nn.Sequential(\n",
    "            nn.Linear(hidden_size, 32),\n",
    "            nn.ReLU(),\n",
    "            nn.Linear(32, 1)\n",
    "        )\n",
    "\n",
    "    def forward(self, x):\n",
    "        out, _ = self.lstm(x)  # out: (batch, seq_len, hidden_size)\n",
    "        last_output = out[:, -1, :]  # Take the last time step\n",
    "        return self.fc(last_output)\n"
   ]
  },
  {
   "cell_type": "code",
   "execution_count": 115,
   "id": "d1ecea06",
   "metadata": {},
   "outputs": [],
   "source": [
    "from torch.utils.data import TensorDataset, DataLoader\n",
    "\n",
    "# Train/val split\n",
    "train_ratio = 0.8\n",
    "n_total = X_tensor.shape[0]\n",
    "n_train = int(n_total * train_ratio)\n",
    "\n",
    "X_train, X_val = X_tensor[:n_train], X_tensor[n_train:]\n",
    "y_train, y_val = y_tensor[:n_train], y_tensor[n_train:]\n",
    "\n",
    "train_ds = TensorDataset(X_train, y_train)\n",
    "val_ds = TensorDataset(X_val, y_val)\n",
    "\n",
    "train_loader = DataLoader(train_ds, batch_size=64, shuffle=True)\n",
    "val_loader = DataLoader(val_ds, batch_size=64)\n",
    "\n",
    "# Model setup\n",
    "device = torch.device(\"cuda\" if torch.cuda.is_available() else \"cpu\")\n",
    "model = PlayerRatingLSTM(input_size=X_tensor.shape[2]).to(device)\n",
    "loss_fn = nn.MSELoss()\n",
    "optimizer = torch.optim.Adam(model.parameters(), lr=0.001)\n"
   ]
  },
  {
   "cell_type": "code",
   "execution_count": 116,
   "id": "e56c6105",
   "metadata": {},
   "outputs": [
    {
     "name": "stdout",
     "output_type": "stream",
     "text": [
      "Epoch 1/20, Train Loss: 339.6016, Val Loss: 19.8238\n",
      "Epoch 2/20, Train Loss: 10.6999, Val Loss: 15.6868\n",
      "Epoch 3/20, Train Loss: 8.4450, Val Loss: 10.3336\n",
      "Epoch 4/20, Train Loss: 7.4698, Val Loss: 12.1626\n",
      "Epoch 5/20, Train Loss: 6.9103, Val Loss: 9.3482\n",
      "Epoch 6/20, Train Loss: 6.5918, Val Loss: 9.2038\n",
      "Epoch 7/20, Train Loss: 6.3543, Val Loss: 8.5587\n",
      "Epoch 8/20, Train Loss: 6.1977, Val Loss: 8.5047\n",
      "Epoch 9/20, Train Loss: 6.0955, Val Loss: 7.5870\n",
      "Epoch 10/20, Train Loss: 6.1507, Val Loss: 9.5821\n",
      "Epoch 11/20, Train Loss: 6.2063, Val Loss: 6.9741\n",
      "Epoch 12/20, Train Loss: 5.9459, Val Loss: 7.3012\n",
      "Epoch 13/20, Train Loss: 5.9165, Val Loss: 7.9050\n",
      "Epoch 14/20, Train Loss: 5.7923, Val Loss: 7.2993\n",
      "Epoch 15/20, Train Loss: 5.6939, Val Loss: 6.5152\n",
      "Epoch 16/20, Train Loss: 5.6167, Val Loss: 6.3174\n",
      "Epoch 17/20, Train Loss: 5.4531, Val Loss: 8.9701\n",
      "Epoch 18/20, Train Loss: 5.4223, Val Loss: 6.2393\n",
      "Epoch 19/20, Train Loss: 5.3686, Val Loss: 6.7281\n",
      "Epoch 20/20, Train Loss: 5.3457, Val Loss: 9.5624\n"
     ]
    }
   ],
   "source": [
    "# Train loop\n",
    "n_epochs = 20\n",
    "for epoch in range(n_epochs):\n",
    "    model.train()\n",
    "    train_loss = 0.0\n",
    "    for xb, yb in train_loader:\n",
    "        xb, yb = xb.to(device), yb.to(device)\n",
    "        pred = model(xb)\n",
    "        loss = loss_fn(pred, yb)\n",
    "        optimizer.zero_grad()\n",
    "        loss.backward()\n",
    "        optimizer.step()\n",
    "        train_loss += loss.item()\n",
    "\n",
    "    model.eval()\n",
    "    val_loss = 0.0\n",
    "    with torch.no_grad():\n",
    "        for xb, yb in val_loader:\n",
    "            xb, yb = xb.to(device), yb.to(device)\n",
    "            val_loss += loss_fn(model(xb), yb).item()\n",
    "\n",
    "    print(f\"Epoch {epoch+1}/{n_epochs}, Train Loss: {train_loss/len(train_loader):.4f}, Val Loss: {val_loss/len(val_loader):.4f}\")\n"
   ]
  },
  {
   "cell_type": "code",
   "execution_count": 117,
   "id": "6040dfe7",
   "metadata": {},
   "outputs": [
    {
     "name": "stdout",
     "output_type": "stream",
     "text": [
      "Predicted Rating: 77.31\n",
      "Actual Rating:    77.00\n"
     ]
    }
   ],
   "source": [
    "import random\n",
    "i = random.randint(0, X_tensor.shape[0] - 1)  # change this to test different examples\n",
    "\n",
    "# Move input and true label to device\n",
    "sample_input = X_tensor[i:i+1].to(device)     # Shape: (1, seq_len, features)\n",
    "actual_rating = y_tensor[i].item()            # Scalar\n",
    "\n",
    "# Get prediction\n",
    "model.eval()\n",
    "with torch.no_grad():\n",
    "    predicted_rating = model(sample_input).item()\n",
    "\n",
    "print(f\"Predicted Rating: {predicted_rating:.2f}\")\n",
    "print(f\"Actual Rating:    {actual_rating:.2f}\")\n"
   ]
  },
  {
   "cell_type": "code",
   "execution_count": 118,
   "id": "0776191c",
   "metadata": {},
   "outputs": [],
   "source": [
    "from torch.nn import HuberLoss\n",
    "\n",
    "# Randomly sample 1000 points from the dataset\n",
    "sample_indices = torch.randperm(len(X_tensor))[:1000]\n",
    "X_sample = X_tensor[sample_indices].to(device)\n",
    "y_sample = y_tensor[sample_indices].to(device)\n",
    "\n",
    "model.eval()\n",
    "with torch.no_grad():\n",
    "    preds = model(X_sample)\n"
   ]
  },
  {
   "cell_type": "code",
   "execution_count": 119,
   "id": "0dbe6cb9",
   "metadata": {},
   "outputs": [
    {
     "data": {
      "image/png": "[encoded data removed]",
      "text/plain": [
       "<Figure size 800x500 with 1 Axes>"
      ]
     },
     "metadata": {},
     "output_type": "display_data"
    }
   ],
   "source": [
    "huber = HuberLoss(reduction='none')\n",
    "losses = huber(preds, y_sample).cpu().numpy()\n",
    "\n",
    "plt.figure(figsize=(8, 5))\n",
    "plt.hist(losses, bins=40, color='skyblue', edgecolor='black')\n",
    "plt.xlabel(\"Huber Loss\")\n",
    "plt.ylabel(\"Frequency\")\n",
    "plt.title(\"Distribution of Huber Loss over 1000 Sampled Predictions\")\n",
    "plt.grid(True)\n",
    "plt.show()\n"
   ]
  }
 ],
 "metadata": {
  "kernelspec": {
   "display_name": "cosmos",
   "language": "python",
   "name": "python3"
  },
  "language_info": {
   "codemirror_mode": {
    "name": "ipython",
    "version": 3
   },
   "file_extension": ".py",
   "mimetype": "text/x-python",
   "name": "python",
   "nbconvert_exporter": "python",
   "pygments_lexer": "ipython3",
   "version": "3.12.11"
  }
 },
 "nbformat": 4,
 "nbformat_minor": 5
}
