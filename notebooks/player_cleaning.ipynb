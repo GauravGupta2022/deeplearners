{
 "cells": [
  {
   "cell_type": "markdown",
   "id": "5505b22d",
   "metadata": {},
   "source": [
    "# Cleaning Player and Player Attributes Data"
   ]
  },
  {
   "cell_type": "code",
   "execution_count": null,
   "id": "33fa599d",
   "metadata": {},
   "outputs": [],
   "source": [
    "import pandas as pd\n",
    "import numpy as np\n",
    "import matplotlib.pyplot as plt\n",
    "import seaborn as sns\n",
    "from sklearn.preprocessing import StandardScaler\n",
    "from sklearn.decomposition import PCA\n",
    "from sklearn.cluster import KMeans\n",
    "\n",
    "player_attr_df = pd.read_csv('../data/raw/Player_Attributes.csv')\n",
    "player_df = pd.read_csv('../data/raw/Player.csv')"
   ]
  },
  {
   "cell_type": "code",
   "execution_count": null,
   "id": "88d4a0d9",
   "metadata": {},
   "outputs": [],
   "source": [
    "print(\"Player Attributes dataset:\")\n",
    "print(player_attr_df.shape)\n",
    "player_attr_df.head()"
   ]
  },
  {
   "cell_type": "code",
   "execution_count": null,
   "id": "1ecedc10",
   "metadata": {},
   "outputs": [],
   "source": [
    "player_attr_df['date'] = pd.to_datetime(player_attr_df['date'])\n",
    "player_attr_df['player_api_id'] = pd.to_numeric(player_attr_df['player_api_id'], errors='coerce').astype('Int64')\n",
    "player_attr_df.head(3)"
   ]
  },
  {
   "cell_type": "code",
   "execution_count": null,
   "id": "37e98fe3",
   "metadata": {},
   "outputs": [],
   "source": [
    "player_attr_df.tail(3)"
   ]
  },
  {
   "cell_type": "code",
   "execution_count": null,
   "id": "a2ce3c54",
   "metadata": {},
   "outputs": [],
   "source": [
    "player_attr_df = player_attr_df.drop(['player_fifa_api_id'], axis=1)\n",
    "player_attr_df = player_attr_df.drop(['id'], axis=1)\n",
    "#player_attr_df = player_attr_df.set_index(['player_api_id', 'date']) #multi-index\n",
    "player_attr_df"
   ]
  },
  {
   "cell_type": "code",
   "execution_count": null,
   "id": "821133f0",
   "metadata": {},
   "outputs": [],
   "source": [
    "num_nulls = player_attr_df.isna().sum()\n",
    "print(f\"Number of NaNs in each column:\\n{num_nulls}\")"
   ]
  },
  {
   "cell_type": "code",
   "execution_count": null,
   "id": "10af7e96",
   "metadata": {},
   "outputs": [],
   "source": [
    "player_attr_df.dropna(inplace=True)\n",
    "player_attr_df.info()"
   ]
  },
  {
   "cell_type": "code",
   "execution_count": null,
   "id": "8c99541e",
   "metadata": {},
   "outputs": [],
   "source": [
    "#organize data in numerical order by api id and then chronologically by date\n",
    "player_attr_df = player_attr_df.sort_index(level=['player_api_id', 'date'])\n",
    "player_attr_df"
   ]
  },
  {
   "cell_type": "markdown",
   "id": "becbd929",
   "metadata": {},
   "source": [
    "# Encoding categorical variables (3 total)"
   ]
  },
  {
   "cell_type": "markdown",
   "id": "fc7f6248",
   "metadata": {},
   "source": [
    "# preferred_foot\n",
    "We mapped right to 1 and 0 to left for preferred_foot as a form of one-hot encoding."
   ]
  },
  {
   "cell_type": "code",
   "execution_count": null,
   "id": "8cb3163f",
   "metadata": {},
   "outputs": [],
   "source": [
    "player_attr_df['preferred_foot'] = player_attr_df['preferred_foot'].map({'right': 1, 'left': 0})\n",
    "player_attr_df\n"
   ]
  },
  {
   "cell_type": "markdown",
   "id": "a1768d0a",
   "metadata": {},
   "source": [
    "## attacking_work_rate\n",
    "We imputed the nonsense descriptions in 'attacking_work_rate' that were not \"high,\" \"medium,\" or \"low\" with \"medium\" because \"medium\" was the most frequent value, constituting more than two thirds of the rows. "
   ]
  },
  {
   "cell_type": "code",
   "execution_count": null,
   "id": "89e63e7e",
   "metadata": {},
   "outputs": [],
   "source": [
    "unique_values = player_attr_df['attacking_work_rate'].unique()\n",
    "#print(f\"Unique values in 'attacking_work_rate': {unique_values}\")\n",
    "value_counts = player_attr_df['attacking_work_rate'].value_counts()\n",
    "player_attr_df['attacking_work_rate'] = player_attr_df['attacking_work_rate'].astype(str)\n",
    "# Replace any value not 'high', 'medium', or 'low' with 'medium' (as imputed previously)\n",
    "player_attr_df['attacking_work_rate'] = player_attr_df['attacking_work_rate'].apply(\n",
    "    lambda x: x if x in ['high', 'medium', 'low'] else 'medium'\n",
    ")\n",
    "# Now map to integers\n",
    "player_attr_df['attacking_work_rate'] = player_attr_df['attacking_work_rate'].map({'high': 2, 'medium': 1, 'low': 0}).astype(int)\n"
   ]
  },
  {
   "cell_type": "code",
   "execution_count": null,
   "id": "22a0bc58",
   "metadata": {},
   "outputs": [],
   "source": [
    "unique_values = player_attr_df['defensive_work_rate'].unique()\n",
    "player_attr_df['defensive_work_rate'] = player_attr_df['defensive_work_rate'].astype(str)\n",
    "print(player_attr_df['defensive_work_rate'].value_counts())\n",
    "player_attr_df['defensive_work_rate'] = player_attr_df['defensive_work_rate'].apply(\n",
    "    lambda x: x if x in ['high', 'medium', 'low'] else 'medium'\n",
    ")\n",
    "# Now map to integers\n",
    "player_attr_df['defensive_work_rate'] = player_attr_df['defensive_work_rate'].map({'high': 2, 'medium': 1, 'low': 0}).astype(int)\n",
    "player_attr_df\n",
    "print(player_attr_df['defensive_work_rate'].value_counts())\n",
    "player_attr_df"
   ]
  },
  {
   "cell_type": "code",
   "execution_count": null,
   "id": "fb8ac54b",
   "metadata": {},
   "outputs": [],
   "source": [
    "print(\"Player dataset:\")\n",
    "print(player_df.shape)\n",
    "player_df.drop(['id'], axis=1, inplace=True)\n",
    "player_df.head()"
   ]
  },
  {
   "cell_type": "code",
   "execution_count": null,
   "id": "a45d518b",
   "metadata": {},
   "outputs": [],
   "source": [
    "player_df['birthday'] = pd.to_datetime(player_df['birthday'])\n",
    "player_df['player_name'] = player_df['player_name'].astype(str)\n",
    "player_df.sort_values(['player_api_id'], inplace=True)\n",
    "player_df.drop(['player_fifa_api_id'], axis=1, inplace=True)\n",
    "player_df"
   ]
  },
  {
   "cell_type": "code",
   "execution_count": null,
   "id": "d826ea0f",
   "metadata": {},
   "outputs": [],
   "source": [
    "# Merge player_attr_df with player_df to add player_name, birthday, height, and weight\n",
    "player_attr_df = player_attr_df.reset_index()\n",
    "player_attr_df = player_attr_df.merge(\n",
    "    player_df[['player_api_id', 'player_name', 'birthday', 'height', 'weight']],\n",
    "    on='player_api_id',\n",
    "    how='right'\n",
    ")"
   ]
  },
  {
   "cell_type": "code",
   "execution_count": null,
   "id": "32763c7b",
   "metadata": {},
   "outputs": [],
   "source": [
    "player_attr_df.dropna(inplace=True)\n",
    "player_attr_df.drop(['index'], axis=1, inplace=True)\n",
    "player_attr_df\n",
    "cols = player_attr_df.columns.tolist()\n",
    "\n",
    "# Move the last 4 columns to the front\n",
    "new_order = cols[-4:] + cols[:-4]\n",
    "player_attr_df = player_attr_df[new_order]\n",
    "player_attr_df\n",
    "# Move the 5th column ('player_api_id') to the leftmost position\n",
    "cols = player_attr_df.columns.tolist()\n",
    "cols = [cols[4]] + cols[:4] + cols[5:]\n",
    "player_attr_df = player_attr_df[cols]\n",
    "player_attr_df"
   ]
  },
  {
   "cell_type": "code",
   "execution_count": null,
   "id": "668d19db",
   "metadata": {},
   "outputs": [],
   "source": [
    "player_attr_df.to_csv('../data/cleaned/player_attributes_cleaned.csv', index=False)\n",
    "player_attr_df"
   ]
  }
 ],
 "metadata": {
  "kernelspec": {
   "display_name": "cosmos",
   "language": "python",
   "name": "python3"
  },
  "language_info": {
   "codemirror_mode": {
    "name": "ipython",
    "version": 3
   },
   "file_extension": ".py",
   "mimetype": "text/x-python",
   "name": "python",
   "nbconvert_exporter": "python",
   "pygments_lexer": "ipython3",
   "version": "3.12.11"
  }
 },
 "nbformat": 4,
 "nbformat_minor": 5
}
