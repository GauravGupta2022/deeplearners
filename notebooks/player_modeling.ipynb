{
 "cells": [
  {
   "cell_type": "markdown",
   "id": "7a5d7443",
   "metadata": {},
   "source": [
    "# Modeling Player Data to Predict Rating\n",
    "## Regression (OLS, Ridge, Lasso) "
   ]
  },
  {
   "cell_type": "code",
   "execution_count": null,
   "id": "48668818",
   "metadata": {},
   "outputs": [],
   "source": [
    "import pandas as pd\n",
    "import numpy as np\n",
    "import matplotlib.pyplot as plt\n",
    "import seaborn as sns\n",
    "\n",
    "from sklearn.preprocessing import StandardScaler\n",
    "from sklearn.decomposition import PCA\n",
    "from sklearn.cluster import KMeans\n",
    "from sklearn.linear_model import LinearRegression, Ridge, Lasso\n",
    "from sklearn.metrics import mean_squared_error, r2_score\n",
    "\n",
    "sns.set(style='whitegrid')\n",
    "\n",
    "np.random.seed(42)"
   ]
  },
  {
   "cell_type": "code",
   "execution_count": null,
   "id": "8f5f431c",
   "metadata": {},
   "outputs": [],
   "source": [
    "player_cleaned_df = pd.read_csv('../data/cleaned/player_attributes_cleaned.csv')\n",
    "#player_cleaned_df.set_index(['player_api_id', 'player_name', 'birthday', 'height', 'weight', 'date'], inplace=True)\n",
    "player_cleaned_df"
   ]
  },
  {
   "cell_type": "code",
   "execution_count": null,
   "id": "96fdd469",
   "metadata": {},
   "outputs": [],
   "source": [
    "#Add player age column that stores age of player in years for each rating\n",
    "player_cleaned_df['age'] = (\n",
    "    pd.to_datetime(player_cleaned_df['date']) - pd.to_datetime(player_cleaned_df['birthday'])\n",
    ").dt.days / 365.25\n",
    "# Move 'age' column to the right of 'date'\n",
    "cols = list(player_cleaned_df.columns)\n",
    "cols.insert(cols.index('date') + 1, cols.pop(cols.index('age')))\n",
    "player_cleaned_df = player_cleaned_df[cols]\n",
    "player_cleaned_df = player_cleaned_df.drop(columns=['player_name', 'birthday'])\n",
    "\n",
    "player_cleaned_df\n",
    "\n"
   ]
  },
  {
   "cell_type": "code",
   "execution_count": null,
   "id": "8dbd6202",
   "metadata": {},
   "outputs": [],
   "source": [
    "X = player_cleaned_df.select_dtypes(include=['int64', 'float64']).drop(columns=['overall_rating', 'player_api_id'])\n",
    "y = player_cleaned_df['overall_rating']\n",
    "X"
   ]
  },
  {
   "cell_type": "code",
   "execution_count": null,
   "id": "81b57f40",
   "metadata": {},
   "outputs": [],
   "source": [
    "\n",
    "ols = LinearRegression().fit(X, y)\n",
    "y_ols = ols.predict(X)\n",
    "print(\"OLS Coefs:\", ols.coef_)\n",
    "print(\"OLS R^2:\", r2_score(y, y_ols))\n",
    "\n",
    "def mse_loss(y_true, y_pred):\n",
    "    return np.mean((y_true - y_pred) ** 2)\n",
    "\n",
    "total_loss = mse_loss(y, y_ols)\n",
    "print(\"Total MSE Loss:\", total_loss)\n"
   ]
  },
  {
   "cell_type": "code",
   "execution_count": null,
   "id": "f772e53d",
   "metadata": {},
   "outputs": [],
   "source": [
    "X"
   ]
  },
  {
   "cell_type": "code",
   "execution_count": null,
   "id": "be15ce04",
   "metadata": {},
   "outputs": [],
   "source": [
    "plt.figure(figsize=(7, 5))\n",
    "sns.scatterplot(x=y, y=y_ols)\n",
    "plt.plot([y.min(), y.max()], [y.min(), y.max()], 'r--')  # ideal diagonal\n",
    "plt.xlabel(\"True Y\")\n",
    "plt.ylabel(\"Predicted Y\")\n",
    "plt.title(\"True vs. Predicted Values (OLS Regression)\")\n",
    "plt.tight_layout()\n",
    "plt.show()"
   ]
  },
  {
   "cell_type": "code",
   "execution_count": null,
   "id": "199279af",
   "metadata": {},
   "outputs": [],
   "source": [
    "# Fit Ridge\n",
    "ridge = Ridge(alpha=1.0,solver='sparse_cg').fit(X, y)\n",
    "y_ridge = ridge.predict(X)\n",
    "print(\"Ridge Coefs:\", ridge.coef_)\n",
    "print(\"Ridge R^2:\", r2_score(y, y_ridge))\n",
    "print(ridge.coef_[0] / ridge.coef_[1])"
   ]
  },
  {
   "cell_type": "code",
   "execution_count": null,
   "id": "16aa8820",
   "metadata": {},
   "outputs": [],
   "source": [
    "plt.figure(figsize=(7, 5))\n",
    "sns.scatterplot(x=y, y=y_ridge)\n",
    "plt.plot([y.min(), y.max()], [y.min(), y.max()], 'r--')  # ideal diagonal\n",
    "plt.xlabel(\"True Y\")\n",
    "plt.ylabel(\"Predicted Y\")\n",
    "plt.title(\"True vs. Predicted Values (Ridge Regression)\")\n",
    "plt.tight_layout()\n",
    "plt.show()"
   ]
  },
  {
   "cell_type": "code",
   "execution_count": null,
   "id": "46319e1c",
   "metadata": {},
   "outputs": [],
   "source": [
    "# Fit Lasso\n",
    "lasso = Lasso(alpha=0.1)\n",
    "lasso.fit(X, y)\n",
    "y_pred = lasso.predict(X)\n",
    "print(\"Lasso R^2:\", r2_score(y, y_pred))\n",
    "print(\"Nonzero Coefficients:\", np.sum(lasso.coef_ != 0))"
   ]
  },
  {
   "cell_type": "code",
   "execution_count": null,
   "id": "fdce9105",
   "metadata": {},
   "outputs": [],
   "source": [
    "plt.figure(figsize=(7, 5))\n",
    "sns.scatterplot(x=y, y=y_pred)\n",
    "plt.plot([y.min(), y.max()], [y.min(), y.max()], 'r--')  # ideal diagonal\n",
    "plt.xlabel(\"True Y\")\n",
    "plt.ylabel(\"Predicted Y\")\n",
    "plt.title(\"True vs. Predicted Values (Lasso Regression)\")\n",
    "plt.tight_layout()\n",
    "plt.show()"
   ]
  }
 ],
 "metadata": {
  "kernelspec": {
   "display_name": "cosmos",
   "language": "python",
   "name": "python3"
  },
  "language_info": {
   "codemirror_mode": {
    "name": "ipython",
    "version": 3
   },
   "file_extension": ".py",
   "mimetype": "text/x-python",
   "name": "python",
   "nbconvert_exporter": "python",
   "pygments_lexer": "ipython3",
   "version": "3.12.11"
  }
 },
 "nbformat": 4,
 "nbformat_minor": 5
}
