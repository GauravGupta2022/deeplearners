{
 "cells": [
  {
   "cell_type": "markdown",
   "id": "8beb0c6d",
   "metadata": {},
   "source": [
    "# Exploratory Data Analysis for Cleaned Player Data"
   ]
  },
  {
   "cell_type": "code",
   "execution_count": null,
   "id": "7d5c0995",
   "metadata": {},
   "outputs": [],
   "source": [
    "import pandas as pd\n",
    "import numpy as np\n",
    "import matplotlib.pyplot as plt\n",
    "import seaborn as sns\n",
    "from sklearn.preprocessing import StandardScaler\n",
    "from sklearn.decomposition import PCA\n",
    "from sklearn.cluster import KMeans"
   ]
  },
  {
   "cell_type": "code",
   "execution_count": null,
   "id": "35fa40af",
   "metadata": {},
   "outputs": [],
   "source": [
    "player_cleaned_df = pd.read_csv('../data/cleaned/player_attributes_cleaned.csv')\n",
    "player_cleaned_df.set_index(['player_api_id', 'player_name', 'birthday', 'height', 'weight', 'date'], inplace=True)\n",
    "player_cleaned_df"
   ]
  },
  {
   "cell_type": "code",
   "execution_count": null,
   "id": "0aa2ba78",
   "metadata": {},
   "outputs": [],
   "source": [
    "# Extract the 'birthday' from the index and plot histogram\n",
    "birthdays = player_cleaned_df.index.get_level_values('birthday')\n",
    "birthdays = pd.to_datetime(birthdays, errors='coerce')\n",
    "plt.figure(figsize=(10, 6))\n",
    "pd.Series(birthdays).hist(bins=50)\n",
    "plt.xlabel('Birthday')\n",
    "plt.ylabel('Count')\n",
    "plt.title('Histogram of Player Birthdays')\n",
    "plt.show()"
   ]
  },
  {
   "cell_type": "code",
   "execution_count": null,
   "id": "6247f575",
   "metadata": {},
   "outputs": [],
   "source": [
    "# Extract the 'date' from the index and plot histogram\n",
    "dates = player_cleaned_df.index.get_level_values('date')\n",
    "dates = pd.to_datetime(dates, errors='coerce')\n",
    "plt.figure(figsize=(10, 6))\n",
    "pd.Series(dates).hist(bins=12)\n",
    "plt.xlabel('Date')\n",
    "plt.ylabel('Count')\n",
    "plt.title('Histogram of Player Dates')\n",
    "plt.show()"
   ]
  },
  {
   "cell_type": "code",
   "execution_count": null,
   "id": "90c831d0",
   "metadata": {},
   "outputs": [],
   "source": [
    "plt.figure(figsize=(10, 6))\n",
    "sns.histplot(player_cleaned_df['potential'], bins=25, kde=True)\n",
    "plt.title('Histogram and KDE of Potential')\n",
    "plt.xlabel('Player Potential')\n",
    "plt.ylabel('Count')\n",
    "plt.show()"
   ]
  },
  {
   "cell_type": "code",
   "execution_count": null,
   "id": "258d441f",
   "metadata": {},
   "outputs": [],
   "source": [
    "# Compute correlation (numeric columns only)\n",
    "corr = player_cleaned_df.corr()\n",
    "\n",
    "# Plot heatmap\n",
    "sns.heatmap(corr, annot=True, cmap='coolwarm', fmt='.2f')\n",
    "plt.title('Player Dataset: Correlation Matrix Between Standardized Numeric Features')\n",
    "plt.gcf().set_size_inches(20, 15)\n",
    "plt.tight_layout()\n",
    "# Fix for missing y-axis labels: set yticks and yticklabels explicitly\n",
    "plt.yticks(ticks=np.arange(len(corr.index)) + 0.5, labels=corr.index, rotation=0)\n",
    "plt.xticks(ticks=np.arange(len(corr.index)) + 0.5, labels=corr.index, rotation=45, ha='right', rotation_mode='anchor')\n",
    "\n",
    "plt.show()"
   ]
  }
 ],
 "metadata": {
  "kernelspec": {
   "display_name": "cosmos",
   "language": "python",
   "name": "python3"
  },
  "language_info": {
   "codemirror_mode": {
    "name": "ipython",
    "version": 3
   },
   "file_extension": ".py",
   "mimetype": "text/x-python",
   "name": "python",
   "nbconvert_exporter": "python",
   "pygments_lexer": "ipython3",
   "version": "3.12.11"
  }
 },
 "nbformat": 4,
 "nbformat_minor": 5
}
