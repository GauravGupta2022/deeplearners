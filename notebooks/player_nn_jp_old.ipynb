{
 "cells": [
  {
   "cell_type": "code",
   "execution_count": 5,
   "id": "5a2520f9",
   "metadata": {},
   "outputs": [],
   "source": [
    "import pandas as pd\n",
    "import numpy as np\n",
    "import matplotlib.pyplot as plt\n",
    "import seaborn as sns\n",
    "\n",
    "from sklearn.preprocessing import StandardScaler\n",
    "from sklearn.decomposition import PCA\n",
    "from sklearn.cluster import KMeans\n",
    "from sklearn.linear_model import LinearRegression, Ridge, Lasso\n",
    "from sklearn.metrics import mean_squared_error, r2_score\n",
    "from sklearn.preprocessing import StandardScaler\n",
    "\n",
    "sns.set(style='whitegrid')\n",
    "\n",
    "np.random.seed(42)\n",
    "\n",
    "import torch\n",
    "import torch.nn as nn\n",
    "import torch.optim as optim"
   ]
  },
  {
   "cell_type": "code",
   "execution_count": 6,
   "id": "9058362e",
   "metadata": {},
   "outputs": [],
   "source": [
    "torch.manual_seed(87) \n",
    "player_original_cleaned = pd.read_csv('../data/cleaned/player_attributes_cleaned.csv')\n",
    "player_cleaned_df = player_original_cleaned.drop(columns=['player_name'])"
   ]
  },
  {
   "cell_type": "code",
   "execution_count": 7,
   "id": "60213809",
   "metadata": {},
   "outputs": [
    {
     "ename": "NameError",
     "evalue": "name 'feature_cols' is not defined",
     "output_type": "error",
     "traceback": [
      "\u001b[31m---------------------------------------------------------------------------\u001b[39m",
      "\u001b[31mNameError\u001b[39m                                 Traceback (most recent call last)",
      "\u001b[36mCell\u001b[39m\u001b[36m \u001b[39m\u001b[32mIn[7]\u001b[39m\u001b[32m, line 3\u001b[39m\n\u001b[32m      1\u001b[39m player_cleaned_df = player_cleaned_df.drop(columns=[\u001b[33m'\u001b[39m\u001b[33mdate\u001b[39m\u001b[33m'\u001b[39m])\n\u001b[32m      2\u001b[39m scaler = StandardScaler()\n\u001b[32m----> \u001b[39m\u001b[32m3\u001b[39m player_cleaned_df[feature_cols] = scaler.fit_transform(player_cleaned_df[\u001b[43mfeature_cols\u001b[49m])\n\u001b[32m      4\u001b[39m player_cleaned_df.head(\u001b[32m20\u001b[39m)\n\u001b[32m      5\u001b[39m player_cleaned_df.info()\n",
      "\u001b[31mNameError\u001b[39m: name 'feature_cols' is not defined"
     ]
    }
   ],
   "source": [
    "player_cleaned_df = player_cleaned_df.drop(columns=['date'])\n",
    "scaler = StandardScaler()\n",
    "player_cleaned_df[feature_cols] = scaler.fit_transform(player_cleaned_df[feature_cols])\n",
    "player_cleaned_df.head(20)\n",
    "player_cleaned_df.info()\n"
   ]
  },
  {
   "cell_type": "code",
   "execution_count": null,
   "id": "4c401cf4",
   "metadata": {},
   "outputs": [],
   "source": [
    "# Define which columns to use as input features\n",
    "feature_cols = [col for col in player_cleaned_df.columns if col not in ['overall_rating', 'player_api_id']]\n",
    "sequence_length = 3\n",
    "\n",
    "X_list = []\n",
    "y_list = []\n",
    "\n",
    "for _, group in player_cleaned_df.groupby('player_api_id'):\n",
    "    group = group.reset_index(drop=True)\n",
    "    if len(group) <= sequence_length:\n",
    "        continue\n",
    "\n",
    "    for i in range(len(group) - sequence_length):\n",
    "        X_seq = group.loc[i:i+sequence_length-1, feature_cols].to_numpy(dtype=np.float32)\n",
    "        y_val = group.loc[i + sequence_length, 'overall_rating'] \n",
    "        X_list.append(X_seq)\n",
    "        y_list.append(y_val)\n",
    "\n",
    "# typecase to tensor\n",
    "X_tensor = torch.tensor(np.stack(X_list))           # (samples, seq_len, features)\n",
    "y_tensor = torch.tensor(y_list, dtype=torch.float32).unsqueeze(1)  # (samples, 1)\n"
   ]
  },
  {
   "cell_type": "code",
   "execution_count": null,
   "id": "c82e5164",
   "metadata": {},
   "outputs": [],
   "source": [
    "class PlayerRatingLSTM(nn.Module):\n",
    "    def __init__(self, input_size, hidden_size=128):\n",
    "        super().__init__()\n",
    "        self.lstm = nn.LSTM(\n",
    "            input_size=input_size, \n",
    "            hidden_size=hidden_size, \n",
    "            batch_first=True, \n",
    "            bidirectional=True  # make model bidirectional\n",
    "        )\n",
    "\n",
    "# Bidirectional model uses time series data sequentially (both ways)\n",
    "\n",
    "        self.dropout = nn.Dropout(p=0.3)  # Regularization\n",
    "        self.fc = nn.Sequential(\n",
    "            nn.Linear(hidden_size * 2, 32),  # x2 size of model\n",
    "            nn.ReLU(),\n",
    "            nn.Linear(32, 1)\n",
    "        )\n",
    "\n",
    "    def forward(self, x):\n",
    "        out, _ = self.lstm(x) \n",
    "        last_output = out[:, -1, :]  \n",
    "        last_output = self.dropout(last_output)\n",
    "        return self.fc(last_output)\n"
   ]
  },
  {
   "cell_type": "code",
   "execution_count": null,
   "id": "49d6f901",
   "metadata": {},
   "outputs": [],
   "source": [
    "class CustomLoss(nn.Module):\n",
    "    def __init__(self):\n",
    "        super(CustomLoss, self).__init__()\n",
    "\n",
    "    def forward(self, predictions, targets):\n",
    "        return nn.MSELoss(predictions, targets) # remove custom loss function to use first 3 samples"
   ]
  },
  {
   "cell_type": "code",
   "execution_count": null,
   "id": "d1ecea06",
   "metadata": {},
   "outputs": [],
   "source": [
    "from torch.utils.data import TensorDataset, DataLoader\n",
    "\n",
    "train_ratio = 0.1\n",
    "n_total = X_tensor.shape[0]\n",
    "n_train = int(n_total * train_ratio)\n",
    "\n",
    "X_train, X_val = X_tensor[:n_train], X_tensor[n_train:]\n",
    "y_train, y_val = y_tensor[:n_train], y_tensor[n_train:]\n",
    "\n",
    "train_ds = TensorDataset(X_train, y_train)\n",
    "val_ds = TensorDataset(X_val, y_val)\n",
    "\n",
    "train_loader = DataLoader(train_ds, batch_size=64, shuffle=True)\n",
    "val_loader = DataLoader(val_ds, batch_size=64)\n",
    "\n",
    "device = torch.device(\"cuda\" if torch.cuda.is_available() else \"cpu\")\n",
    "model = PlayerRatingLSTM(input_size=X_tensor.shape[2]).to(device)\n",
    "loss_fn = CustomLoss()\n",
    "optimizer = torch.optim.Adam(model.parameters(), lr=0.001)\n",
    "scheduler = torch.optim.lr_scheduler.ReduceLROnPlateau(optimizer, mode='min', patience=3, factor=0.5)\n"
   ]
  },
  {
   "cell_type": "code",
   "execution_count": null,
   "id": "3d4225f5",
   "metadata": {},
   "outputs": [
    {
     "name": "stderr",
     "output_type": "stream",
     "text": [
      "/opt/miniconda3/envs/cosmos/lib/python3.12/site-packages/torch/optim/lr_scheduler.py:62: UserWarning: The verbose parameter is deprecated. Please use get_last_lr() to access the learning rate.\n",
      "  warnings.warn(\n"
     ]
    },
    {
     "name": "stdout",
     "output_type": "stream",
     "text": [
      "Epoch 1/20, Train Loss: 1300.0697, Val Loss: 41.1722\n",
      "Epoch 2/20, Train Loss: 25.3084, Val Loss: 18.2504\n",
      "Epoch 3/20, Train Loss: 20.6478, Val Loss: 10.5713\n",
      "Epoch 4/20, Train Loss: 18.1393, Val Loss: 7.5539\n",
      "Epoch 5/20, Train Loss: 17.3726, Val Loss: 6.8522\n",
      "Epoch 6/20, Train Loss: 16.4934, Val Loss: 6.0453\n",
      "Epoch 7/20, Train Loss: 16.0458, Val Loss: 5.6146\n",
      "Epoch 8/20, Train Loss: 15.5370, Val Loss: 5.3338\n",
      "Epoch 9/20, Train Loss: 15.1155, Val Loss: 5.1398\n",
      "Epoch 10/20, Train Loss: 14.7912, Val Loss: 5.3490\n",
      "Epoch 11/20, Train Loss: 14.6077, Val Loss: 4.7382\n",
      "Epoch 12/20, Train Loss: 14.6966, Val Loss: 4.7938\n",
      "Epoch 13/20, Train Loss: 14.2566, Val Loss: 4.6268\n",
      "Epoch 14/20, Train Loss: 14.2732, Val Loss: 4.4810\n",
      "Epoch 15/20, Train Loss: 13.7433, Val Loss: 4.6566\n",
      "Epoch 16/20, Train Loss: 13.3286, Val Loss: 4.6496\n",
      "Epoch 17/20, Train Loss: 13.9020, Val Loss: 3.9929\n",
      "Epoch 18/20, Train Loss: 13.5185, Val Loss: 4.2393\n",
      "Epoch 19/20, Train Loss: 13.3099, Val Loss: 5.4689\n",
      "Epoch 20/20, Train Loss: 13.2459, Val Loss: 4.1696\n",
      " Training completed!\n"
     ]
    },
    {
     "data": {
      "text/plain": [
       "<All keys matched successfully>"
      ]
     },
     "execution_count": 79,
     "metadata": {},
     "output_type": "execute_result"
    }
   ],
   "source": [
    "loss_fn = nn.MSELoss()\n",
    "\n",
    "\n",
    "input_size = len(feature_cols)\n",
    "model = PlayerRatingLSTM(input_size=input_size).to(device)\n",
    "optimizer = optim.Adam(model.parameters(), lr=0.001)\n",
    "\n",
    "# include rate scheduler\n",
    "scheduler = optim.lr_scheduler.ReduceLROnPlateau(\n",
    "    optimizer, mode='min', patience=3, factor=0.5, verbose=True\n",
    ")\n",
    "\n",
    "\n",
    "train_losses = []\n",
    "val_losses = []\n",
    "n_epochs = 20\n",
    "best_val_loss = float('inf')\n",
    "best_model_state = None\n",
    "\n",
    "\n",
    "for epoch in range(n_epochs):\n",
    "    model.train()\n",
    "    train_loss = 0.0\n",
    "\n",
    "    for xb, yb in train_loader:\n",
    "        xb, yb = xb.to(device), yb.to(device)\n",
    "\n",
    "        pred = model(xb)\n",
    "        loss = loss_fn(pred, yb)\n",
    "\n",
    "        optimizer.zero_grad()\n",
    "        loss.backward()\n",
    "        optimizer.step()\n",
    "        train_loss += loss.item()\n",
    "\n",
    "    # Validation phase\n",
    "    model.eval()\n",
    "    val_loss = 0.0\n",
    "    with torch.no_grad():\n",
    "        for xb, yb in val_loader:\n",
    "            xb, yb = xb.to(device), yb.to(device)\n",
    "            val_loss += loss_fn(model(xb), yb).item()\n",
    "\n",
    "    avg_train_loss = train_loss / len(train_loader)\n",
    "    avg_val_loss = val_loss / len(val_loader)\n",
    "    train_losses.append(avg_train_loss)\n",
    "    val_losses.append(avg_val_loss)\n",
    "\n",
    "    scheduler.step(avg_val_loss)  #scheduler step for adjustment \n",
    "\n",
    "    # save best model\n",
    "    if avg_val_loss < best_val_loss:\n",
    "        best_val_loss = avg_val_loss\n",
    "        best_model_state = model.state_dict()\n",
    "\n",
    "    print(f\"Epoch {epoch+1}/{n_epochs}, Train Loss: {avg_train_loss:.4f}, Val Loss: {avg_val_loss:.4f}\")\n",
    "\n",
    "print(\" Training completed!\")\n",
    "\n",
    "# Restore best model\n",
    "model.load_state_dict(best_model_state)\n",
    "\n"
   ]
  },
  {
   "cell_type": "code",
   "execution_count": null,
   "id": "6040dfe7",
   "metadata": {},
   "outputs": [
    {
     "name": "stdout",
     "output_type": "stream",
     "text": [
      "Predicted Rating: 65.01\n",
      "Actual Rating:    68.00\n"
     ]
    }
   ],
   "source": [
    "import random\n",
    "i = random.randint(0, X_tensor.shape[0] - 1)  # change this to test different examples\n",
    "\n",
    "# Move input and true label to device\n",
    "sample_input = X_tensor[i:i+1].to(device)     # Shape: (1, seq_len, features)\n",
    "actual_rating = y_tensor[i].item()            # Scalar\n",
    "\n",
    "# Get prediction\n",
    "model.eval()\n",
    "with torch.no_grad():\n",
    "    predicted_rating = model(sample_input).item()\n",
    "\n",
    "print(f\"Predicted Rating: {predicted_rating:.2f}\")\n",
    "print(f\"Actual Rating:    {actual_rating:.2f}\")\n"
   ]
  },
  {
   "cell_type": "code",
   "execution_count": null,
   "id": "0776191c",
   "metadata": {},
   "outputs": [],
   "source": [
    "from torch.nn import HuberLoss\n",
    "\n",
    "# Randomly sample 1000 points from the dataset\n",
    "sample_indices = torch.randperm(len(X_tensor))[:1000]\n",
    "X_sample = X_tensor[sample_indices].to(device)\n",
    "y_sample = y_tensor[sample_indices].to(device)\n",
    "\n",
    "model.eval()\n",
    "with torch.no_grad():\n",
    "    preds = model(X_sample)\n"
   ]
  },
  {
   "cell_type": "code",
   "execution_count": null,
   "id": "0dbe6cb9",
   "metadata": {},
   "outputs": [
    {
     "data": {
      "image/png": "[encoded data removed]",
      "text/plain": [
       "<Figure size 800x500 with 1 Axes>"
      ]
     },
     "metadata": {},
     "output_type": "display_data"
    }
   ],
   "source": [
    "huber = HuberLoss(reduction='none')\n",
    "losses = huber(preds, y_sample).cpu().numpy()\n",
    "\n",
    "plt.figure(figsize=(8, 5))\n",
    "plt.hist(losses, bins=40, color='skyblue', edgecolor='black')\n",
    "plt.xlabel(\"Huber Loss\")\n",
    "plt.ylabel(\"Frequency\")\n",
    "plt.title(\"Distribution of Huber Loss over 1000 Sampled Predictions\")\n",
    "plt.grid(True)\n",
    "plt.show()\n"
   ]
  },
  {
   "cell_type": "code",
   "execution_count": null,
   "id": "800e3698",
   "metadata": {},
   "outputs": [],
   "source": [
    "import ipywidgets as widgets\n",
    "from IPython.display import display, clear_output\n",
    "\n",
    "# Choose a player_api_id to visualize\n",
    "player_id = player_cleaned_df['player_api_id'].iloc[0]  # You can change this to any valid player_api_id\n",
    "\n",
    "# Get all rows for this player\n",
    "player_df = player_cleaned_df[player_cleaned_df['player_api_id'] == player_id].reset_index(drop=True)\n",
    "\n",
    "# Prepare input sequences for this player (skip first 'sequence_length' entries)\n",
    "X_player = []\n",
    "for i in range(len(player_df) - sequence_length):\n",
    "    X_seq = player_df.loc[i:i+sequence_length-1, feature_cols].to_numpy(dtype=np.float32)\n",
    "    X_player.append(X_seq)\n",
    "X_player_tensor = torch.tensor(np.stack(X_player)).to(device)\n",
    "\n",
    "# Predict ratings\n",
    "model.eval()\n",
    "with torch.no_grad():\n",
    "    preds = model(X_player_tensor).cpu().numpy().flatten()\n",
    "\n",
    "# Actual ratings (skip first 'sequence_length' entries to align with predictions)\n",
    "actual_ratings = player_df['overall_rating'].iloc[sequence_length:].to_numpy()"
   ]
  },
  {
   "cell_type": "code",
   "execution_count": null,
   "id": "48b67d39",
   "metadata": {},
   "outputs": [
    {
     "data": {
      "application/vnd.jupyter.widget-view+json": {
       "model_id": "38d95f3c05644318a8116812661781af",
       "version_major": 2,
       "version_minor": 0
      },
      "text/plain": [
       "Button(description='Random Player', style=ButtonStyle())"
      ]
     },
     "metadata": {},
     "output_type": "display_data"
    },
    {
     "data": {
      "application/vnd.jupyter.widget-view+json": {
       "model_id": "c44992b199764457bd89de95c01db830",
       "version_major": 2,
       "version_minor": 0
      },
      "text/plain": [
       "Output()"
      ]
     },
     "metadata": {},
     "output_type": "display_data"
    }
   ],
   "source": [
    "def MSE(actual_ratings, preds):\n",
    "    return np.mean((actual_ratings - preds) ** 2)\n",
    "\n",
    "\n",
    "def plot_player(player_id):\n",
    "    player_df = player_cleaned_df[player_cleaned_df['player_api_id'] == player_id].reset_index(drop=True)\n",
    "    X_player = []\n",
    "    for i in range(len(player_df) - sequence_length):\n",
    "        X_seq = player_df.loc[i:i+sequence_length-1, feature_cols].to_numpy(dtype=np.float32)\n",
    "        X_player.append(X_seq)\n",
    "    if len(X_player) == 0:\n",
    "        print(f\"Player {player_id} does not have enough records.\")\n",
    "        return\n",
    "    X_player_tensor = torch.tensor(np.stack(X_player)).to(device)\n",
    "    model.eval()\n",
    "    with torch.no_grad():\n",
    "        preds = model(X_player_tensor).cpu().numpy().flatten()\n",
    "    actual_ratings = player_df['overall_rating'].iloc[sequence_length:].to_numpy()\n",
    "    ages = player_df['age'].iloc[sequence_length:].to_numpy()\n",
    "    mse = MSE(actual_ratings, preds)\n",
    "    y_min = min(actual_ratings.min(), preds.min())\n",
    "    y_max = max(actual_ratings.max(), preds.max())\n",
    "    if y_max - y_min < 15:\n",
    "        center = (y_min + y_max) / 2\n",
    "        y_lower = center - 7.5\n",
    "        y_upper = center + 7.5\n",
    "    else:\n",
    "        y_lower = y_min\n",
    "        y_upper = y_max\n",
    "    plt.figure(figsize=(10, 5))\n",
    "    plt.plot(ages, actual_ratings, label='Actual Rating', marker='o')\n",
    "    plt.plot(ages, preds, label='Predicted Rating', marker='x')\n",
    "    for age, actual, pred in zip(ages, actual_ratings, preds):\n",
    "        plt.plot([age, age], [actual, pred], color='gray', linestyle='--', linewidth=0.7)\n",
    "\n",
    "    plt.xlabel('Age')\n",
    "    plt.ylabel('Overall Rating')\n",
    "    plt.title(f'Player {player_id} - Actual vs Predicted Ratings\\nMSE: {mse:.2f}')\n",
    "    plt.legend()\n",
    "    plt.ylim(y_lower -1, y_upper+1)\n",
    "    plt.show()\n",
    "\n",
    "button = widgets.Button(description=\"Random Player\")\n",
    "output = widgets.Output()\n",
    "\n",
    "def on_button_clicked(b):\n",
    "    with output:\n",
    "        clear_output(wait=True)\n",
    "        random_id = np.random.choice(player_cleaned_df['player_api_id'].unique())\n",
    "        plot_player(random_id)\n",
    "\n",
    "button.on_click(on_button_clicked)\n",
    "display(button, output)"
   ]
  }
 ],
 "metadata": {
  "kernelspec": {
   "display_name": "cosmos",
   "language": "python",
   "name": "python3"
  },
  "language_info": {
   "codemirror_mode": {
    "name": "ipython",
    "version": 3
   },
   "file_extension": ".py",
   "mimetype": "text/x-python",
   "name": "python",
   "nbconvert_exporter": "python",
   "pygments_lexer": "ipython3",
   "version": "3.12.11"
  }
 },
 "nbformat": 4,
 "nbformat_minor": 5
}
